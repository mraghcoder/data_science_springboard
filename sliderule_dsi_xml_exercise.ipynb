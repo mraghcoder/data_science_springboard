{
 "cells": [
  {
   "cell_type": "markdown",
   "metadata": {},
   "source": [
    "# XML example and exercise\n",
    "****\n",
    "+ study examples of accessing nodes in XML tree structure  \n",
    "+ work on exercise to be completed and submitted\n",
    "****\n",
    "+ reference: https://docs.python.org/2.7/library/xml.etree.elementtree.html\n",
    "+ data source: http://www.dbis.informatik.uni-goettingen.de/Mondial\n",
    "****"
   ]
  },
  {
   "cell_type": "code",
   "execution_count": 1,
   "metadata": {
    "collapsed": true
   },
   "outputs": [],
   "source": [
    "from xml.etree import ElementTree as ET"
   ]
  },
  {
   "cell_type": "markdown",
   "metadata": {},
   "source": [
    "## XML example\n",
    "\n",
    "+ for details about tree traversal and iterators, see https://docs.python.org/2.7/library/xml.etree.elementtree.html"
   ]
  },
  {
   "cell_type": "code",
   "execution_count": 2,
   "metadata": {
    "collapsed": true
   },
   "outputs": [],
   "source": [
    "document_tree = ET.parse( './data/mondial_database_less.xml' )"
   ]
  },
  {
   "cell_type": "code",
   "execution_count": 3,
   "metadata": {
    "collapsed": false
   },
   "outputs": [
    {
     "name": "stdout",
     "output_type": "stream",
     "text": [
      "Albania\n",
      "Greece\n",
      "Macedonia\n",
      "Serbia\n",
      "Montenegro\n",
      "Kosovo\n",
      "Andorra\n"
     ]
    }
   ],
   "source": [
    "# print names of all countries\n",
    "for child in document_tree.getroot():\n",
    "    print child.find('name').text"
   ]
  },
  {
   "cell_type": "code",
   "execution_count": 4,
   "metadata": {
    "collapsed": false
   },
   "outputs": [
    {
     "name": "stdout",
     "output_type": "stream",
     "text": [
      "* Albania: Tirana, Shkodër, Durrës, Vlorë, Elbasan, Korçë\n",
      "* Greece: Komotini, Kavala, Athina, Peiraias, Peristeri, Acharnes, Patra, Kozani, Kerkyra, Ioannina, Thessaloniki, Iraklio, Chania, Ermoupoli, Rhodes, Tripoli, Lamia, Chalkida, Larissa, Volos, Mytilini, Karyes\n",
      "* Macedonia: Skopje, Kumanovo\n",
      "* Serbia: Beograd, Novi Sad, Niš\n",
      "* Montenegro: Podgorica\n",
      "* Kosovo: Prishtine\n",
      "* Andorra: Andorra la Vella\n"
     ]
    }
   ],
   "source": [
    "# print names of all countries and their cities\n",
    "for element in document_tree.iterfind('country'):\n",
    "    print '* ' + element.find('name').text + ':',\n",
    "    capitals_string = ''\n",
    "    for subelement in element.getiterator('city'):\n",
    "        capitals_string += subelement.find('name').text + ', '\n",
    "    print capitals_string[:-2]"
   ]
  },
  {
   "cell_type": "code",
   "execution_count": 5,
   "metadata": {
    "collapsed": false
   },
   "outputs": [
    {
     "data": {
      "text/plain": [
       "{'Andorra la Vella': '15600',\n",
       " 'Beograd': '1407073',\n",
       " u'Durr\\xebs': '60000',\n",
       " 'Elbasan': '53000',\n",
       " u'Kor\\xe7\\xeb': '52000',\n",
       " 'Kumanovo': '105484',\n",
       " u'Ni\\u0161': '250518',\n",
       " 'Novi Sad': '299294',\n",
       " 'Podgorica': '136473',\n",
       " 'Prishtine': '148090',\n",
       " u'Shkod\\xebr': '62000',\n",
       " 'Skopje': '506926',\n",
       " 'Tirana': '192000',\n",
       " u'Vlor\\xeb': '56000'}"
      ]
     },
     "execution_count": 5,
     "metadata": {},
     "output_type": "execute_result"
    }
   ],
   "source": [
    "pop_by_city = dict()\n",
    "for element in document_tree.iterfind('country/city'):\n",
    "    #print element.find('name').text, element.find('population').text\n",
    "    pop_by_city[element.find('name').text] = element.find('population').text\n",
    "\n",
    "pop_by_city"
   ]
  },
  {
   "cell_type": "markdown",
   "metadata": {},
   "source": [
    "****\n",
    "## XML exercise\n",
    "\n",
    "Using data in 'data/mondial_database.xml', the examples above, and refering to https://docs.python.org/2.7/library/xml.etree.elementtree.html, find\n",
    "\n",
    "1. 10 countries with the lowest infant mortality rates\n",
    "2. 10 cities with the largest population\n",
    "3. 10 ethnic groups with the largest overall populations (sum of best/latest estimates over all countries)\n",
    "4. name and country of a) longest river, b) largest lake and c) airport at highest elevation"
   ]
  },
  {
   "cell_type": "code",
   "execution_count": 6,
   "metadata": {
    "collapsed": true
   },
   "outputs": [],
   "source": [
    "document = ET.parse( './data/mondial_database.xml' )"
   ]
  },
  {
   "cell_type": "code",
   "execution_count": 7,
   "metadata": {
    "collapsed": true
   },
   "outputs": [],
   "source": [
    "##1 10 countries with the lowest infant mortality rates"
   ]
  },
  {
   "cell_type": "code",
   "execution_count": 8,
   "metadata": {
    "collapsed": false
   },
   "outputs": [
    {
     "name": "stdout",
     "output_type": "stream",
     "text": [
      "Monaco :  1.81\n",
      "Japan :  2.13\n",
      "Bermuda :  2.48\n",
      "Norway :  2.48\n",
      "Singapore :  2.53\n",
      "Sweden :  2.6\n",
      "Czech Republic :  2.63\n",
      "Hong Kong :  2.73\n",
      "Macao :  3.13\n",
      "Iceland :  3.15\n"
     ]
    }
   ],
   "source": [
    "inf_mort_rate = dict()\n",
    "for element in document.iterfind('country'):\n",
    "    #print element.find('infant_mortality').text\n",
    "    if element.find('infant_mortality') is not None:\n",
    "        inf_mort_rate[element.find('name').text] = float(element.find('infant_mortality').text)\n",
    "\n",
    "new_list = sorted([(v,k) for k,v in inf_mort_rate.items()] )\n",
    "for i in new_list[:10]:\n",
    "    print i[1],\": \",i[0]"
   ]
  },
  {
   "cell_type": "code",
   "execution_count": null,
   "metadata": {
    "collapsed": true
   },
   "outputs": [],
   "source": []
  },
  {
   "cell_type": "code",
   "execution_count": 9,
   "metadata": {
    "collapsed": true
   },
   "outputs": [],
   "source": [
    "##2 10 cities with the largest population"
   ]
  },
  {
   "cell_type": "code",
   "execution_count": 28,
   "metadata": {
    "collapsed": false,
    "scrolled": false
   },
   "outputs": [
    {
     "name": "stdout",
     "output_type": "stream",
     "text": [
      "Shanghai :  22315474\n",
      "Istanbul :  13710512\n",
      "Mumbai :  12442373\n",
      "Moskva :  11979529\n",
      "Beijing :  11716620\n",
      "São Paulo :  11152344\n",
      "Tianjin :  11090314\n",
      "Guangzhou :  11071424\n",
      "Delhi :  11034555\n",
      "Shenzhen :  10358381\n"
     ]
    }
   ],
   "source": [
    "pop_by_city = dict()\n",
    "for element in document.getiterator('city'):\n",
    "   \n",
    "   \n",
    "    if  len(element.findall('population'))>0:\n",
    "        pop_by_city[element.find('name').text] = int(element.findall('population')[-1].text)\n",
    "\n",
    "\n",
    "new_pop = sorted([(v,k) for k,v in pop_by_city.items()] ,reverse=True)\n",
    "for i in new_pop[:10]:\n",
    "    print i[1],\": \",i[0]"
   ]
  },
  {
   "cell_type": "code",
   "execution_count": null,
   "metadata": {
    "collapsed": true
   },
   "outputs": [],
   "source": []
  },
  {
   "cell_type": "code",
   "execution_count": 11,
   "metadata": {
    "collapsed": true
   },
   "outputs": [],
   "source": [
    "##3 10 ethnic groups with the largest overall populations (sum of best/latest estimates over all countries)"
   ]
  },
  {
   "cell_type": "code",
   "execution_count": 33,
   "metadata": {
    "collapsed": false
   },
   "outputs": [
    {
     "name": "stdout",
     "output_type": "stream",
     "text": [
      "Han Chinese :  1245058800.0\n",
      "Indo-Aryan :  871815583.44\n",
      "European :  494872219.72\n",
      "African :  318325120.369\n",
      "Dravidian :  302713744.25\n",
      "Mestizo :  157734354.937\n",
      "Bengali :  146776916.72\n",
      "Russian :  131856996.077\n",
      "Japanese :  126534212.0\n",
      "Malay :  121993550.374\n"
     ]
    }
   ],
   "source": [
    "ethnic_grp= dict()\n",
    "for element in document.iterfind('country'):\n",
    "    sub_grps = element.findall('ethnicgroup')\n",
    "    try: \n",
    "        tot_pop = float(element.findall('population')[-1].text)\n",
    "    except:\n",
    "        tot_pop = 0\n",
    "        \n",
    "    if len(sub_grps)>0:\n",
    "        for grp in sub_grps:\n",
    "            \n",
    "            name=grp.text\n",
    "            perc = float(grp.attrib.get('percentage'))/100*tot_pop\n",
    "            #print name, perc\n",
    "            ethnic_grp[name] = ethnic_grp.get(name,0) + perc\n",
    "           \n",
    "\n",
    "#print ethnic_grp\n",
    "new_list = sorted([(v,k) for k,v in ethnic_grp.items()] ,reverse=True)\n",
    "for i in new_list[:10]:\n",
    "    print i[1],\": \",i[0]"
   ]
  },
  {
   "cell_type": "code",
   "execution_count": null,
   "metadata": {
    "collapsed": true
   },
   "outputs": [],
   "source": [
    "ethnic_grp=[]\n",
    "ethnic_grp_pop = []\n",
    "\n"
   ]
  },
  {
   "cell_type": "code",
   "execution_count": null,
   "metadata": {
    "collapsed": true
   },
   "outputs": [],
   "source": [
    "## name and country of a) longest river, b) largest lake and c) airport at highest elevation"
   ]
  },
  {
   "cell_type": "code",
   "execution_count": 20,
   "metadata": {
    "collapsed": false,
    "scrolled": true
   },
   "outputs": [
    {
     "name": "stdout",
     "output_type": "stream",
     "text": [
      "Longest river is: Amazonas In country:  CO BR PE Len: 6448.0\n"
     ]
    }
   ],
   "source": [
    "longest_river =[]\n",
    "longest_river_cntry =[]\n",
    "river_len_longest = 0\n",
    "for element in document.iterfind('river'):\n",
    "    river_name = element.find('name').text\n",
    "    try:\n",
    "        river_len = float(element.find('length').text)\n",
    "    except:\n",
    "        river_len = 0\n",
    "    if river_len > river_len_longest:\n",
    "        longest_river_cntry = element.attrib.get('country')\n",
    "        longest_river =  element.find('name').text\n",
    "        river_len_longest = river_len\n",
    "print 'Longest river is:', longest_river,'In country: ', longest_river_cntry, 'Len:', river_len_longest"
   ]
  },
  {
   "cell_type": "code",
   "execution_count": 21,
   "metadata": {
    "collapsed": false
   },
   "outputs": [
    {
     "name": "stdout",
     "output_type": "stream",
     "text": [
      "Largest lake is: Caspian Sea In country:  R AZ KAZ IR TM Area: 386400.0\n"
     ]
    }
   ],
   "source": [
    "largest_lake =[]\n",
    "largest_lake_cntry =[]\n",
    "largest_lake_area = 0\n",
    "for element in document.iterfind('lake'):\n",
    "    lake_name = element.find('name').text\n",
    "    try:\n",
    "        lake_area = float(element.find('area').text)\n",
    "    except:\n",
    "        lake_area = 0\n",
    "    if lake_area > largest_lake_area:\n",
    "        largest_lake_cntry = element.attrib.get('country')\n",
    "        largest_lake =  element.find('name').text\n",
    "        largest_lake_area = lake_area\n",
    "print 'Largest lake is:', largest_lake,'In country: ', largest_lake_cntry, 'Area:', largest_lake_area"
   ]
  },
  {
   "cell_type": "code",
   "execution_count": 23,
   "metadata": {
    "collapsed": false
   },
   "outputs": [
    {
     "name": "stdout",
     "output_type": "stream",
     "text": [
      "Airport with highest elevation: El Alto Intl In country: BOL Elevation: 4063.0\n"
     ]
    }
   ],
   "source": [
    "he_airport = []\n",
    "he_ap_cntry =[]\n",
    "he_ap_elev = 0\n",
    "for element in document.iterfind('airport'):\n",
    "    ap_name = element.find('name').text\n",
    "    try:\n",
    "        ap_ele = float(element.find('elevation').text)\n",
    "    except:\n",
    "        ap_ele = 0\n",
    "    if ap_ele > he_ap_elev:\n",
    "        he_airport = ap_name\n",
    "        he_ap_cntry = element.attrib.get('country')\n",
    "        he_ap_elev = ap_ele\n",
    "print 'Airport with highest elevation:', he_airport, 'In country:', he_ap_cntry, 'Elevation:', he_ap_elev"
   ]
  },
  {
   "cell_type": "code",
   "execution_count": null,
   "metadata": {
    "collapsed": true
   },
   "outputs": [],
   "source": []
  },
  {
   "cell_type": "code",
   "execution_count": null,
   "metadata": {
    "collapsed": true
   },
   "outputs": [],
   "source": []
  }
 ],
 "metadata": {
  "kernelspec": {
   "display_name": "Python 2",
   "language": "python",
   "name": "python2"
  },
  "language_info": {
   "codemirror_mode": {
    "name": "ipython",
    "version": 2
   },
   "file_extension": ".py",
   "mimetype": "text/x-python",
   "name": "python",
   "nbconvert_exporter": "python",
   "pygments_lexer": "ipython2",
   "version": "2.7.11"
  }
 },
 "nbformat": 4,
 "nbformat_minor": 0
}
